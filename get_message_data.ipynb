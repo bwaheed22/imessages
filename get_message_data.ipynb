{
 "cells": [
  {
   "cell_type": "markdown",
   "metadata": {},
   "source": [
    "# Analyzing iMessage Data"
   ]
  },
  {
   "cell_type": "code",
   "execution_count": 1,
   "metadata": {},
   "outputs": [],
   "source": [
    "# Import packages and set plot theme:\n",
    "import sqlite3\n",
    "import pandas as pd\n",
    "from datetime import datetime\n",
    "import matplotlib.pyplot as plt\n",
    "plt.style.use('fivethirtyeight')\n",
    "%matplotlib inline"
   ]
  },
  {
   "cell_type": "code",
   "execution_count": 2,
   "metadata": {},
   "outputs": [
    {
     "name": "stdout",
     "output_type": "stream",
     "text": [
      "('_SqliteDatabaseProperties',)\n",
      "('deleted_messages',)\n",
      "('sqlite_sequence',)\n",
      "('chat_handle_join',)\n",
      "('sync_deleted_messages',)\n",
      "('message_processing_task',)\n",
      "('handle',)\n",
      "('sync_deleted_chats',)\n",
      "('message_attachment_join',)\n",
      "('sync_deleted_attachments',)\n",
      "('kvtable',)\n",
      "('chat_message_join',)\n",
      "('message',)\n",
      "('chat',)\n",
      "('attachment',)\n",
      "('sqlite_stat1',)\n"
     ]
    }
   ],
   "source": [
    "conn = sqlite3.connect('/Users/mbp/Documents/Side-Projects/iMessage_Analysis/chat.db') # connect to db\n",
    "cur = conn.cursor() # create cursor object to query db using sql syntax\n",
    "\n",
    "# get the names of the tables in the database\n",
    "cur.execute(\" select name from sqlite_master where type = 'table' \") \n",
    "for name in cur.fetchall():\n",
    "    print(name)"
   ]
  },
  {
   "cell_type": "markdown",
   "metadata": {},
   "source": [
    "## Prepare data from relevant tables:"
   ]
  },
  {
   "cell_type": "code",
   "execution_count": 3,
   "metadata": {},
   "outputs": [],
   "source": [
    "messages = pd.read_sql_query('''select *, datetime(date/1000000000 + strftime(\"%s\", \"2001-01-01\") ,\"unixepoch\",\"localtime\")  as date_utc from message''', conn) \n",
    "\n",
    "handles = pd.read_sql_query(\"select * from handle\", conn)\n",
    "chat_message_joins = pd.read_sql_query(\"select * from chat_message_join\", conn)"
   ]
  },
  {
   "cell_type": "code",
   "execution_count": 4,
   "metadata": {},
   "outputs": [],
   "source": [
    "messages['message_date'] = messages['date']\n",
    "messages['timestamp'] = messages['date_utc'].apply(lambda x: pd.Timestamp(x))\n",
    "messages['date'] = messages['timestamp'].apply(lambda x: x.date())\n",
    "messages['month'] = messages['timestamp'].apply(lambda x: int(x.month))\n",
    "messages['year'] = messages['timestamp'].apply(lambda x: int(x.year))\n",
    "\n",
    "\n",
    "# rename the ROWID into message_id, because that's what it is\n",
    "messages.rename(columns={'ROWID' : 'message_id'}, inplace = True)\n",
    "\n",
    "# rename appropriately the handle and apple_id/phone_number as well\n",
    "handles.rename(columns={'id' : 'phone_number', 'ROWID': 'handle_id'}, inplace = True)"
   ]
  },
  {
   "cell_type": "code",
   "execution_count": 5,
   "metadata": {},
   "outputs": [
    {
     "name": "stdout",
     "output_type": "stream",
     "text": [
      "131249\n"
     ]
    }
   ],
   "source": [
    "# merge the messages with the handles\n",
    "merge_level_1 = pd.merge(messages[['text', 'handle_id', 'date','message_date' ,'timestamp', 'month','year','is_sent', 'message_id']],  handles[['handle_id', 'phone_number']], on ='handle_id', how='left')\n",
    "\n",
    "# and then that table with the chats\n",
    "df_messages = pd.merge(merge_level_1, chat_message_joins[['chat_id', 'message_id']], on = 'message_id', how='left')\n",
    "\n",
    "\n",
    "print(len(df_messages))\n",
    "#print(df_messages.head())"
   ]
  },
  {
   "cell_type": "markdown",
   "metadata": {},
   "source": [
    "## Write to CSV"
   ]
  },
  {
   "cell_type": "code",
   "execution_count": 6,
   "metadata": {},
   "outputs": [],
   "source": [
    "# Save data for future use:\n",
    "df_messages.to_csv('/Users/mbp/Documents/Side-Projects/iMessage_Analysis/imessage_data.csv', index = False, encoding = 'utf-8')"
   ]
  },
  {
   "cell_type": "markdown",
   "metadata": {},
   "source": [
    "## Data exploration"
   ]
  },
  {
   "cell_type": "code",
   "execution_count": 7,
   "metadata": {},
   "outputs": [
    {
     "data": {
      "text/plain": [
       "(datetime.date(2018, 5, 15), datetime.date(2020, 9, 8))"
      ]
     },
     "execution_count": 7,
     "metadata": {},
     "output_type": "execute_result"
    }
   ],
   "source": [
    "df_messages['date'].min(), df_messages['date'].max()"
   ]
  },
  {
   "cell_type": "code",
   "execution_count": 8,
   "metadata": {},
   "outputs": [
    {
     "data": {
      "text/html": [
       "<div>\n",
       "<style scoped>\n",
       "    .dataframe tbody tr th:only-of-type {\n",
       "        vertical-align: middle;\n",
       "    }\n",
       "\n",
       "    .dataframe tbody tr th {\n",
       "        vertical-align: top;\n",
       "    }\n",
       "\n",
       "    .dataframe thead th {\n",
       "        text-align: right;\n",
       "    }\n",
       "</style>\n",
       "<table border=\"1\" class=\"dataframe\">\n",
       "  <thead>\n",
       "    <tr style=\"text-align: right;\">\n",
       "      <th></th>\n",
       "      <th>text</th>\n",
       "      <th>handle_id</th>\n",
       "      <th>date</th>\n",
       "      <th>message_date</th>\n",
       "      <th>timestamp</th>\n",
       "      <th>month</th>\n",
       "      <th>year</th>\n",
       "      <th>is_sent</th>\n",
       "      <th>message_id</th>\n",
       "      <th>phone_number</th>\n",
       "      <th>chat_id</th>\n",
       "    </tr>\n",
       "  </thead>\n",
       "  <tbody>\n",
       "    <tr>\n",
       "      <th>0</th>\n",
       "      <td>test</td>\n",
       "      <td>1</td>\n",
       "      <td>2018-05-15</td>\n",
       "      <td>548124178295907264</td>\n",
       "      <td>2018-05-15 20:42:58</td>\n",
       "      <td>5</td>\n",
       "      <td>2018</td>\n",
       "      <td>1</td>\n",
       "      <td>1</td>\n",
       "      <td>+16319651611</td>\n",
       "      <td>1.0</td>\n",
       "    </tr>\n",
       "    <tr>\n",
       "      <th>1</th>\n",
       "      <td>Test</td>\n",
       "      <td>1</td>\n",
       "      <td>2018-05-15</td>\n",
       "      <td>548124215222080704</td>\n",
       "      <td>2018-05-15 20:43:35</td>\n",
       "      <td>5</td>\n",
       "      <td>2018</td>\n",
       "      <td>0</td>\n",
       "      <td>2</td>\n",
       "      <td>+16319651611</td>\n",
       "      <td>1.0</td>\n",
       "    </tr>\n",
       "    <tr>\n",
       "      <th>2</th>\n",
       "      <td>Tomorrow’s Ramadan</td>\n",
       "      <td>1</td>\n",
       "      <td>2018-05-15</td>\n",
       "      <td>548124223301824320</td>\n",
       "      <td>2018-05-15 20:43:43</td>\n",
       "      <td>5</td>\n",
       "      <td>2018</td>\n",
       "      <td>0</td>\n",
       "      <td>3</td>\n",
       "      <td>+16319651611</td>\n",
       "      <td>1.0</td>\n",
       "    </tr>\n",
       "    <tr>\n",
       "      <th>3</th>\n",
       "      <td>LET THE FASTING BEGIN.</td>\n",
       "      <td>1</td>\n",
       "      <td>2018-05-15</td>\n",
       "      <td>548124237825990656</td>\n",
       "      <td>2018-05-15 20:43:57</td>\n",
       "      <td>5</td>\n",
       "      <td>2018</td>\n",
       "      <td>0</td>\n",
       "      <td>4</td>\n",
       "      <td>+16319651611</td>\n",
       "      <td>1.0</td>\n",
       "    </tr>\n",
       "    <tr>\n",
       "      <th>4</th>\n",
       "      <td>What do I come up as? My email address?</td>\n",
       "      <td>1</td>\n",
       "      <td>2018-05-15</td>\n",
       "      <td>548124250580835840</td>\n",
       "      <td>2018-05-15 20:44:10</td>\n",
       "      <td>5</td>\n",
       "      <td>2018</td>\n",
       "      <td>1</td>\n",
       "      <td>5</td>\n",
       "      <td>+16319651611</td>\n",
       "      <td>1.0</td>\n",
       "    </tr>\n",
       "  </tbody>\n",
       "</table>\n",
       "</div>"
      ],
      "text/plain": [
       "                                      text  handle_id        date  \\\n",
       "0                                     test          1  2018-05-15   \n",
       "1                                     Test          1  2018-05-15   \n",
       "2                       Tomorrow’s Ramadan          1  2018-05-15   \n",
       "3                  LET THE FASTING BEGIN.           1  2018-05-15   \n",
       "4  What do I come up as? My email address?          1  2018-05-15   \n",
       "\n",
       "         message_date           timestamp  month  year  is_sent  message_id  \\\n",
       "0  548124178295907264 2018-05-15 20:42:58      5  2018        1           1   \n",
       "1  548124215222080704 2018-05-15 20:43:35      5  2018        0           2   \n",
       "2  548124223301824320 2018-05-15 20:43:43      5  2018        0           3   \n",
       "3  548124237825990656 2018-05-15 20:43:57      5  2018        0           4   \n",
       "4  548124250580835840 2018-05-15 20:44:10      5  2018        1           5   \n",
       "\n",
       "   phone_number  chat_id  \n",
       "0  +16319651611      1.0  \n",
       "1  +16319651611      1.0  \n",
       "2  +16319651611      1.0  \n",
       "3  +16319651611      1.0  \n",
       "4  +16319651611      1.0  "
      ]
     },
     "execution_count": 8,
     "metadata": {},
     "output_type": "execute_result"
    }
   ],
   "source": [
    "df_messages.head()"
   ]
  },
  {
   "cell_type": "code",
   "execution_count": 9,
   "metadata": {},
   "outputs": [
    {
     "data": {
      "text/plain": [
       "Index(['text', 'handle_id', 'date', 'message_date', 'timestamp', 'month',\n",
       "       'year', 'is_sent', 'message_id', 'phone_number', 'chat_id'],\n",
       "      dtype='object')"
      ]
     },
     "execution_count": 9,
     "metadata": {},
     "output_type": "execute_result"
    }
   ],
   "source": [
    "df_messages.columns"
   ]
  },
  {
   "cell_type": "code",
   "execution_count": 10,
   "metadata": {},
   "outputs": [
    {
     "data": {
      "text/plain": [
       "(array([736846., 736876., 736907., 736938., 736968., 736999., 737029.,\n",
       "        737060.]),\n",
       " <a list of 8 Text xticklabel objects>)"
      ]
     },
     "execution_count": 10,
     "metadata": {},
     "output_type": "execute_result"
    },
    {
     "data": {
      "image/png": "[encoded data removed]",
      "text/plain": [
       "<Figure size 432x288 with 1 Axes>"
      ]
     },
     "metadata": {
      "needs_background": "light"
     },
     "output_type": "display_data"
    }
   ],
   "source": [
    "# number of messages per day\n",
    "plt.plot(df_messages[df_messages['year']==2018].groupby('date').size())\n",
    "plt.xticks(rotation='45')"
   ]
  },
  {
   "cell_type": "code",
   "execution_count": 11,
   "metadata": {},
   "outputs": [
    {
     "data": {
      "text/plain": [
       "<BarContainer object of 12 artists>"
      ]
     },
     "execution_count": 11,
     "metadata": {},
     "output_type": "execute_result"
    },
    {
     "data": {
      "image/png": "[encoded data removed]",
      "text/plain": [
       "<Figure size 432x288 with 1 Axes>"
      ]
     },
     "metadata": {
      "needs_background": "light"
     },
     "output_type": "display_data"
    }
   ],
   "source": [
    "plt.bar(x=sorted(df_messages.month.unique()), height = df_messages.groupby('month').size())"
   ]
  },
  {
   "cell_type": "code",
   "execution_count": 12,
   "metadata": {},
   "outputs": [
    {
     "data": {
      "text/plain": [
       "year\n",
       "2018    35127\n",
       "2019    55586\n",
       "2020    40536\n",
       "dtype: int64"
      ]
     },
     "execution_count": 12,
     "metadata": {},
     "output_type": "execute_result"
    }
   ],
   "source": [
    "# number of messages per month and year\n",
    "df_messages.groupby('month').size()\n",
    "df_messages.groupby('year').size()"
   ]
  },
  {
   "cell_type": "code",
   "execution_count": 13,
   "metadata": {},
   "outputs": [
    {
     "data": {
      "text/plain": [
       "is_sent\n",
       "0    76560\n",
       "1    54689\n",
       "dtype: int64"
      ]
     },
     "execution_count": 13,
     "metadata": {},
     "output_type": "execute_result"
    }
   ],
   "source": [
    "# how many messages sent versus received\n",
    "df_messages.groupby('is_sent').size()"
   ]
  },
  {
   "cell_type": "markdown",
   "metadata": {},
   "source": [
    "## Extract group chat data for analysis"
   ]
  },
  {
   "cell_type": "code",
   "execution_count": 14,
   "metadata": {},
   "outputs": [],
   "source": [
    "# Extract group chat:\n",
    "greece_gang = df_messages[df_messages['chat_id']==242]"
   ]
  },
  {
   "cell_type": "code",
   "execution_count": 15,
   "metadata": {},
   "outputs": [
    {
     "data": {
      "text/html": [
       "<div>\n",
       "<style scoped>\n",
       "    .dataframe tbody tr th:only-of-type {\n",
       "        vertical-align: middle;\n",
       "    }\n",
       "\n",
       "    .dataframe tbody tr th {\n",
       "        vertical-align: top;\n",
       "    }\n",
       "\n",
       "    .dataframe thead th {\n",
       "        text-align: right;\n",
       "    }\n",
       "</style>\n",
       "<table border=\"1\" class=\"dataframe\">\n",
       "  <thead>\n",
       "    <tr style=\"text-align: right;\">\n",
       "      <th></th>\n",
       "      <th>text</th>\n",
       "      <th>handle_id</th>\n",
       "      <th>date</th>\n",
       "      <th>message_date</th>\n",
       "      <th>timestamp</th>\n",
       "      <th>month</th>\n",
       "      <th>year</th>\n",
       "      <th>is_sent</th>\n",
       "      <th>message_id</th>\n",
       "      <th>phone_number</th>\n",
       "      <th>chat_id</th>\n",
       "    </tr>\n",
       "  </thead>\n",
       "  <tbody>\n",
       "    <tr>\n",
       "      <th>57995</th>\n",
       "      <td>GREECE GANG</td>\n",
       "      <td>17</td>\n",
       "      <td>2019-05-11</td>\n",
       "      <td>579286021128020096</td>\n",
       "      <td>2019-05-11 12:47:01</td>\n",
       "      <td>5</td>\n",
       "      <td>2019</td>\n",
       "      <td>0</td>\n",
       "      <td>57965</td>\n",
       "      <td>+12013628265</td>\n",
       "      <td>242.0</td>\n",
       "    </tr>\n",
       "    <tr>\n",
       "      <th>57996</th>\n",
       "      <td>Call me Zeus bitch</td>\n",
       "      <td>0</td>\n",
       "      <td>2019-05-11</td>\n",
       "      <td>579286031763266560</td>\n",
       "      <td>2019-05-11 12:47:11</td>\n",
       "      <td>5</td>\n",
       "      <td>2019</td>\n",
       "      <td>1</td>\n",
       "      <td>57966</td>\n",
       "      <td>NaN</td>\n",
       "      <td>242.0</td>\n",
       "    </tr>\n",
       "    <tr>\n",
       "      <th>57997</th>\n",
       "      <td>AYYYYYY</td>\n",
       "      <td>217</td>\n",
       "      <td>2019-05-11</td>\n",
       "      <td>579286039313524480</td>\n",
       "      <td>2019-05-11 12:47:19</td>\n",
       "      <td>5</td>\n",
       "      <td>2019</td>\n",
       "      <td>0</td>\n",
       "      <td>57967</td>\n",
       "      <td>+15167615901</td>\n",
       "      <td>242.0</td>\n",
       "    </tr>\n",
       "    <tr>\n",
       "      <th>57998</th>\n",
       "      <td>GANG GANG</td>\n",
       "      <td>16</td>\n",
       "      <td>2019-05-11</td>\n",
       "      <td>579286048375630080</td>\n",
       "      <td>2019-05-11 12:47:28</td>\n",
       "      <td>5</td>\n",
       "      <td>2019</td>\n",
       "      <td>0</td>\n",
       "      <td>57968</td>\n",
       "      <td>+19145732476</td>\n",
       "      <td>242.0</td>\n",
       "    </tr>\n",
       "    <tr>\n",
       "      <th>57999</th>\n",
       "      <td>FUCKING LOVE YOU GUYS</td>\n",
       "      <td>16</td>\n",
       "      <td>2019-05-11</td>\n",
       "      <td>579286051493603200</td>\n",
       "      <td>2019-05-11 12:47:31</td>\n",
       "      <td>5</td>\n",
       "      <td>2019</td>\n",
       "      <td>0</td>\n",
       "      <td>57969</td>\n",
       "      <td>+19145732476</td>\n",
       "      <td>242.0</td>\n",
       "    </tr>\n",
       "    <tr>\n",
       "      <th>...</th>\n",
       "      <td>...</td>\n",
       "      <td>...</td>\n",
       "      <td>...</td>\n",
       "      <td>...</td>\n",
       "      <td>...</td>\n",
       "      <td>...</td>\n",
       "      <td>...</td>\n",
       "      <td>...</td>\n",
       "      <td>...</td>\n",
       "      <td>...</td>\n",
       "      <td>...</td>\n",
       "    </tr>\n",
       "    <tr>\n",
       "      <th>131241</th>\n",
       "      <td>http://www.rsdb.org/full</td>\n",
       "      <td>0</td>\n",
       "      <td>2020-09-08</td>\n",
       "      <td>621287527025999744</td>\n",
       "      <td>2020-09-08 15:52:07</td>\n",
       "      <td>9</td>\n",
       "      <td>2020</td>\n",
       "      <td>1</td>\n",
       "      <td>131478</td>\n",
       "      <td>NaN</td>\n",
       "      <td>242.0</td>\n",
       "    </tr>\n",
       "    <tr>\n",
       "      <th>131242</th>\n",
       "      <td>“Racial slur of the day”</td>\n",
       "      <td>17</td>\n",
       "      <td>2020-09-08</td>\n",
       "      <td>621287569653319552</td>\n",
       "      <td>2020-09-08 15:52:49</td>\n",
       "      <td>9</td>\n",
       "      <td>2020</td>\n",
       "      <td>0</td>\n",
       "      <td>131479</td>\n",
       "      <td>+12013628265</td>\n",
       "      <td>242.0</td>\n",
       "    </tr>\n",
       "    <tr>\n",
       "      <th>131243</th>\n",
       "      <td>What the farm</td>\n",
       "      <td>17</td>\n",
       "      <td>2020-09-08</td>\n",
       "      <td>621287572889921152</td>\n",
       "      <td>2020-09-08 15:52:52</td>\n",
       "      <td>9</td>\n",
       "      <td>2020</td>\n",
       "      <td>0</td>\n",
       "      <td>131480</td>\n",
       "      <td>+12013628265</td>\n",
       "      <td>242.0</td>\n",
       "    </tr>\n",
       "    <tr>\n",
       "      <th>131244</th>\n",
       "      <td>Right, I thought the same</td>\n",
       "      <td>0</td>\n",
       "      <td>2020-09-08</td>\n",
       "      <td>621287591915999872</td>\n",
       "      <td>2020-09-08 15:53:11</td>\n",
       "      <td>9</td>\n",
       "      <td>2020</td>\n",
       "      <td>1</td>\n",
       "      <td>131481</td>\n",
       "      <td>NaN</td>\n",
       "      <td>242.0</td>\n",
       "    </tr>\n",
       "    <tr>\n",
       "      <th>131246</th>\n",
       "      <td>How’d you end up on the rsdb, Bilal</td>\n",
       "      <td>217</td>\n",
       "      <td>2020-09-08</td>\n",
       "      <td>621287633118982272</td>\n",
       "      <td>2020-09-08 15:53:53</td>\n",
       "      <td>9</td>\n",
       "      <td>2020</td>\n",
       "      <td>0</td>\n",
       "      <td>131483</td>\n",
       "      <td>+15167615901</td>\n",
       "      <td>242.0</td>\n",
       "    </tr>\n",
       "  </tbody>\n",
       "</table>\n",
       "<p>9714 rows × 11 columns</p>\n",
       "</div>"
      ],
      "text/plain": [
       "                                       text  handle_id        date  \\\n",
       "57995                           GREECE GANG         17  2019-05-11   \n",
       "57996                    Call me Zeus bitch          0  2019-05-11   \n",
       "57997                               AYYYYYY        217  2019-05-11   \n",
       "57998                             GANG GANG         16  2019-05-11   \n",
       "57999                 FUCKING LOVE YOU GUYS         16  2019-05-11   \n",
       "...                                     ...        ...         ...   \n",
       "131241             http://www.rsdb.org/full          0  2020-09-08   \n",
       "131242             “Racial slur of the day”         17  2020-09-08   \n",
       "131243                        What the farm         17  2020-09-08   \n",
       "131244            Right, I thought the same          0  2020-09-08   \n",
       "131246  How’d you end up on the rsdb, Bilal        217  2020-09-08   \n",
       "\n",
       "              message_date           timestamp  month  year  is_sent  \\\n",
       "57995   579286021128020096 2019-05-11 12:47:01      5  2019        0   \n",
       "57996   579286031763266560 2019-05-11 12:47:11      5  2019        1   \n",
       "57997   579286039313524480 2019-05-11 12:47:19      5  2019        0   \n",
       "57998   579286048375630080 2019-05-11 12:47:28      5  2019        0   \n",
       "57999   579286051493603200 2019-05-11 12:47:31      5  2019        0   \n",
       "...                    ...                 ...    ...   ...      ...   \n",
       "131241  621287527025999744 2020-09-08 15:52:07      9  2020        1   \n",
       "131242  621287569653319552 2020-09-08 15:52:49      9  2020        0   \n",
       "131243  621287572889921152 2020-09-08 15:52:52      9  2020        0   \n",
       "131244  621287591915999872 2020-09-08 15:53:11      9  2020        1   \n",
       "131246  621287633118982272 2020-09-08 15:53:53      9  2020        0   \n",
       "\n",
       "        message_id  phone_number  chat_id  \n",
       "57995        57965  +12013628265    242.0  \n",
       "57996        57966           NaN    242.0  \n",
       "57997        57967  +15167615901    242.0  \n",
       "57998        57968  +19145732476    242.0  \n",
       "57999        57969  +19145732476    242.0  \n",
       "...            ...           ...      ...  \n",
       "131241      131478           NaN    242.0  \n",
       "131242      131479  +12013628265    242.0  \n",
       "131243      131480  +12013628265    242.0  \n",
       "131244      131481           NaN    242.0  \n",
       "131246      131483  +15167615901    242.0  \n",
       "\n",
       "[9714 rows x 11 columns]"
      ]
     },
     "execution_count": 15,
     "metadata": {},
     "output_type": "execute_result"
    }
   ],
   "source": [
    "greece_gang"
   ]
  },
  {
   "cell_type": "code",
   "execution_count": 16,
   "metadata": {},
   "outputs": [
    {
     "data": {
      "text/plain": [
       "(9714, 11)"
      ]
     },
     "execution_count": 16,
     "metadata": {},
     "output_type": "execute_result"
    }
   ],
   "source": [
    "greece_gang.shape"
   ]
  },
  {
   "cell_type": "code",
   "execution_count": 17,
   "metadata": {},
   "outputs": [
    {
     "data": {
      "text/plain": [
       "(datetime.date(2019, 5, 11), datetime.date(2020, 9, 8))"
      ]
     },
     "execution_count": 17,
     "metadata": {},
     "output_type": "execute_result"
    }
   ],
   "source": [
    "greece_gang['date'].min(), greece_gang['date'].max()"
   ]
  },
  {
   "cell_type": "code",
   "execution_count": 18,
   "metadata": {},
   "outputs": [
    {
     "data": {
      "text/plain": [
       "array(['+12013628265', nan, '+15167615901', '+19145732476',\n",
       "       '+16318356582', '+19142400741', 'chris.e.pimentel@gmail.com'],\n",
       "      dtype=object)"
      ]
     },
     "execution_count": 18,
     "metadata": {},
     "output_type": "execute_result"
    }
   ],
   "source": [
    "greece_gang.phone_number.unique()"
   ]
  },
  {
   "cell_type": "code",
   "execution_count": 19,
   "metadata": {},
   "outputs": [],
   "source": [
    "# Match phone numbers to names. Eli had multiple phone numbers and email adresses. \n",
    "# I will use his current number as his main, and others as \"eli other\". I also had an \"nan\" which I will label\n",
    "# as myself (Bilal).\n",
    "name_lookup = pd.DataFrame({'phone_number': greece_gang.phone_number.unique(),\n",
    "'name': ['Dan', 'Bilal', 'Christopher', 'Eli', 'Bilal', 'Eli', 'Eli']})"
   ]
  },
  {
   "cell_type": "code",
   "execution_count": 20,
   "metadata": {},
   "outputs": [
    {
     "name": "stdout",
     "output_type": "stream",
     "text": [
      "<class 'pandas.core.frame.DataFrame'>\n",
      "RangeIndex: 7 entries, 0 to 6\n",
      "Data columns (total 2 columns):\n",
      " #   Column        Non-Null Count  Dtype \n",
      "---  ------        --------------  ----- \n",
      " 0   phone_number  6 non-null      object\n",
      " 1   name          7 non-null      object\n",
      "dtypes: object(2)\n",
      "memory usage: 240.0+ bytes\n"
     ]
    }
   ],
   "source": [
    "name_lookup.info()"
   ]
  },
  {
   "cell_type": "code",
   "execution_count": 21,
   "metadata": {},
   "outputs": [
    {
     "data": {
      "text/html": [
       "<div>\n",
       "<style scoped>\n",
       "    .dataframe tbody tr th:only-of-type {\n",
       "        vertical-align: middle;\n",
       "    }\n",
       "\n",
       "    .dataframe tbody tr th {\n",
       "        vertical-align: top;\n",
       "    }\n",
       "\n",
       "    .dataframe thead th {\n",
       "        text-align: right;\n",
       "    }\n",
       "</style>\n",
       "<table border=\"1\" class=\"dataframe\">\n",
       "  <thead>\n",
       "    <tr style=\"text-align: right;\">\n",
       "      <th></th>\n",
       "      <th>phone_number</th>\n",
       "      <th>name</th>\n",
       "    </tr>\n",
       "  </thead>\n",
       "  <tbody>\n",
       "    <tr>\n",
       "      <th>0</th>\n",
       "      <td>+12013628265</td>\n",
       "      <td>Dan</td>\n",
       "    </tr>\n",
       "    <tr>\n",
       "      <th>1</th>\n",
       "      <td>NaN</td>\n",
       "      <td>Bilal</td>\n",
       "    </tr>\n",
       "    <tr>\n",
       "      <th>2</th>\n",
       "      <td>+15167615901</td>\n",
       "      <td>Christopher</td>\n",
       "    </tr>\n",
       "    <tr>\n",
       "      <th>3</th>\n",
       "      <td>+19145732476</td>\n",
       "      <td>Eli</td>\n",
       "    </tr>\n",
       "    <tr>\n",
       "      <th>4</th>\n",
       "      <td>+16318356582</td>\n",
       "      <td>Bilal</td>\n",
       "    </tr>\n",
       "    <tr>\n",
       "      <th>5</th>\n",
       "      <td>+19142400741</td>\n",
       "      <td>Eli</td>\n",
       "    </tr>\n",
       "    <tr>\n",
       "      <th>6</th>\n",
       "      <td>chris.e.pimentel@gmail.com</td>\n",
       "      <td>Eli</td>\n",
       "    </tr>\n",
       "  </tbody>\n",
       "</table>\n",
       "</div>"
      ],
      "text/plain": [
       "                 phone_number         name\n",
       "0                +12013628265          Dan\n",
       "1                         NaN        Bilal\n",
       "2                +15167615901  Christopher\n",
       "3                +19145732476          Eli\n",
       "4                +16318356582        Bilal\n",
       "5                +19142400741          Eli\n",
       "6  chris.e.pimentel@gmail.com          Eli"
      ]
     },
     "execution_count": 21,
     "metadata": {},
     "output_type": "execute_result"
    }
   ],
   "source": [
    "name_lookup"
   ]
  },
  {
   "cell_type": "code",
   "execution_count": null,
   "metadata": {},
   "outputs": [],
   "source": [
    "# Merge names to group chat dataframe:\n",
    "greece_gang = greece_gang.merge(name_lookup, how='left', on = 'phone_number')\n",
    "greece_gang.head()"
   ]
  },
  {
   "cell_type": "code",
   "execution_count": 23,
   "metadata": {},
   "outputs": [],
   "source": [
    "# Clean up data frame to only include columns of interest:\n",
    "greece_gang = greece_gang[['text','date','year','timestamp','name']]"
   ]
  },
  {
   "cell_type": "code",
   "execution_count": 24,
   "metadata": {},
   "outputs": [
    {
     "data": {
      "text/html": [
       "<div>\n",
       "<style scoped>\n",
       "    .dataframe tbody tr th:only-of-type {\n",
       "        vertical-align: middle;\n",
       "    }\n",
       "\n",
       "    .dataframe tbody tr th {\n",
       "        vertical-align: top;\n",
       "    }\n",
       "\n",
       "    .dataframe thead th {\n",
       "        text-align: right;\n",
       "    }\n",
       "</style>\n",
       "<table border=\"1\" class=\"dataframe\">\n",
       "  <thead>\n",
       "    <tr style=\"text-align: right;\">\n",
       "      <th></th>\n",
       "      <th>index</th>\n",
       "      <th>text</th>\n",
       "      <th>date</th>\n",
       "      <th>year</th>\n",
       "      <th>timestamp</th>\n",
       "      <th>name</th>\n",
       "    </tr>\n",
       "  </thead>\n",
       "  <tbody>\n",
       "    <tr>\n",
       "      <th>0</th>\n",
       "      <td>0</td>\n",
       "      <td>GREECE GANG</td>\n",
       "      <td>2019-05-11</td>\n",
       "      <td>2019</td>\n",
       "      <td>2019-05-11 12:47:01</td>\n",
       "      <td>Dan</td>\n",
       "    </tr>\n",
       "    <tr>\n",
       "      <th>1</th>\n",
       "      <td>1</td>\n",
       "      <td>Call me Zeus bitch</td>\n",
       "      <td>2019-05-11</td>\n",
       "      <td>2019</td>\n",
       "      <td>2019-05-11 12:47:11</td>\n",
       "      <td>Bilal</td>\n",
       "    </tr>\n",
       "    <tr>\n",
       "      <th>2</th>\n",
       "      <td>2</td>\n",
       "      <td>AYYYYYY</td>\n",
       "      <td>2019-05-11</td>\n",
       "      <td>2019</td>\n",
       "      <td>2019-05-11 12:47:19</td>\n",
       "      <td>Christopher</td>\n",
       "    </tr>\n",
       "    <tr>\n",
       "      <th>3</th>\n",
       "      <td>3</td>\n",
       "      <td>GANG GANG</td>\n",
       "      <td>2019-05-11</td>\n",
       "      <td>2019</td>\n",
       "      <td>2019-05-11 12:47:28</td>\n",
       "      <td>Eli</td>\n",
       "    </tr>\n",
       "    <tr>\n",
       "      <th>4</th>\n",
       "      <td>4</td>\n",
       "      <td>FUCKING LOVE YOU GUYS</td>\n",
       "      <td>2019-05-11</td>\n",
       "      <td>2019</td>\n",
       "      <td>2019-05-11 12:47:31</td>\n",
       "      <td>Eli</td>\n",
       "    </tr>\n",
       "    <tr>\n",
       "      <th>...</th>\n",
       "      <td>...</td>\n",
       "      <td>...</td>\n",
       "      <td>...</td>\n",
       "      <td>...</td>\n",
       "      <td>...</td>\n",
       "      <td>...</td>\n",
       "    </tr>\n",
       "    <tr>\n",
       "      <th>9709</th>\n",
       "      <td>9709</td>\n",
       "      <td>http://www.rsdb.org/full</td>\n",
       "      <td>2020-09-08</td>\n",
       "      <td>2020</td>\n",
       "      <td>2020-09-08 15:52:07</td>\n",
       "      <td>Bilal</td>\n",
       "    </tr>\n",
       "    <tr>\n",
       "      <th>9710</th>\n",
       "      <td>9710</td>\n",
       "      <td>“Racial slur of the day”</td>\n",
       "      <td>2020-09-08</td>\n",
       "      <td>2020</td>\n",
       "      <td>2020-09-08 15:52:49</td>\n",
       "      <td>Dan</td>\n",
       "    </tr>\n",
       "    <tr>\n",
       "      <th>9711</th>\n",
       "      <td>9711</td>\n",
       "      <td>What the farm</td>\n",
       "      <td>2020-09-08</td>\n",
       "      <td>2020</td>\n",
       "      <td>2020-09-08 15:52:52</td>\n",
       "      <td>Dan</td>\n",
       "    </tr>\n",
       "    <tr>\n",
       "      <th>9712</th>\n",
       "      <td>9712</td>\n",
       "      <td>Right, I thought the same</td>\n",
       "      <td>2020-09-08</td>\n",
       "      <td>2020</td>\n",
       "      <td>2020-09-08 15:53:11</td>\n",
       "      <td>Bilal</td>\n",
       "    </tr>\n",
       "    <tr>\n",
       "      <th>9713</th>\n",
       "      <td>9713</td>\n",
       "      <td>How’d you end up on the rsdb, Bilal</td>\n",
       "      <td>2020-09-08</td>\n",
       "      <td>2020</td>\n",
       "      <td>2020-09-08 15:53:53</td>\n",
       "      <td>Christopher</td>\n",
       "    </tr>\n",
       "  </tbody>\n",
       "</table>\n",
       "<p>9714 rows × 6 columns</p>\n",
       "</div>"
      ],
      "text/plain": [
       "      index                                 text        date  year  \\\n",
       "0         0                          GREECE GANG  2019-05-11  2019   \n",
       "1         1                   Call me Zeus bitch  2019-05-11  2019   \n",
       "2         2                              AYYYYYY  2019-05-11  2019   \n",
       "3         3                            GANG GANG  2019-05-11  2019   \n",
       "4         4                FUCKING LOVE YOU GUYS  2019-05-11  2019   \n",
       "...     ...                                  ...         ...   ...   \n",
       "9709   9709             http://www.rsdb.org/full  2020-09-08  2020   \n",
       "9710   9710             “Racial slur of the day”  2020-09-08  2020   \n",
       "9711   9711                        What the farm  2020-09-08  2020   \n",
       "9712   9712            Right, I thought the same  2020-09-08  2020   \n",
       "9713   9713  How’d you end up on the rsdb, Bilal  2020-09-08  2020   \n",
       "\n",
       "               timestamp         name  \n",
       "0    2019-05-11 12:47:01          Dan  \n",
       "1    2019-05-11 12:47:11        Bilal  \n",
       "2    2019-05-11 12:47:19  Christopher  \n",
       "3    2019-05-11 12:47:28          Eli  \n",
       "4    2019-05-11 12:47:31          Eli  \n",
       "...                  ...          ...  \n",
       "9709 2020-09-08 15:52:07        Bilal  \n",
       "9710 2020-09-08 15:52:49          Dan  \n",
       "9711 2020-09-08 15:52:52          Dan  \n",
       "9712 2020-09-08 15:53:11        Bilal  \n",
       "9713 2020-09-08 15:53:53  Christopher  \n",
       "\n",
       "[9714 rows x 6 columns]"
      ]
     },
     "execution_count": 24,
     "metadata": {},
     "output_type": "execute_result"
    }
   ],
   "source": [
    "greece_gang.reset_index()"
   ]
  },
  {
   "cell_type": "code",
   "execution_count": 25,
   "metadata": {},
   "outputs": [],
   "source": [
    "# Write group chata to csv:\n",
    "greece_gang.to_csv('/Users/mbp/Documents/Side-Projects/iMessage_Analysis/greece_gang.csv')"
   ]
  },
  {
   "cell_type": "markdown",
   "metadata": {},
   "source": [
    "# Sentiment Analysis"
   ]
  },
  {
   "cell_type": "code",
   "execution_count": 38,
   "metadata": {},
   "outputs": [
    {
     "name": "stderr",
     "output_type": "stream",
     "text": [
      "[nltk_data] Downloading package punkt to /Users/mbp/nltk_data...\n",
      "[nltk_data]   Package punkt is already up-to-date!\n",
      "[nltk_data] Downloading package stopwords to /Users/mbp/nltk_data...\n",
      "[nltk_data]   Unzipping corpora/stopwords.zip.\n"
     ]
    }
   ],
   "source": [
    "from vaderSentiment.vaderSentiment import SentimentIntensityAnalyzer\n",
    "import nltk\n",
    "nltk.download('punkt')\n",
    "nltk.download('stopwords')\n",
    "from nltk.corpus import stopwords\n",
    "from nltk.tokenize import word_tokenize\n",
    "analyzer = SentimentIntensityAnalyzer()"
   ]
  },
  {
   "cell_type": "code",
   "execution_count": 42,
   "metadata": {},
   "outputs": [],
   "source": [
    "# calculate sentiment scores for each text in group chat:\n",
    "greece_gang['text'] = greece_gang.text.astype(str)\n",
    "scores = []\n",
    "for texts in greece_gang.text:\n",
    "    tokens = word_tokenize(texts)\n",
    "    tokens_clean = [word for word in tokens if not word in stopwords.words('english')]\n",
    "    tokens_sentence = (\" \").join(tokens_clean)\n",
    "    score = analyzer.polarity_scores(tokens_sentence)\n",
    "    scores.append(score)"
   ]
  },
  {
   "cell_type": "code",
   "execution_count": 88,
   "metadata": {},
   "outputs": [
    {
     "data": {
      "text/plain": [
       "'How ’ end rsdb , Bilal'"
      ]
     },
     "execution_count": 88,
     "metadata": {},
     "output_type": "execute_result"
    }
   ],
   "source": [
    "tokens_sentence"
   ]
  },
  {
   "cell_type": "code",
   "execution_count": 66,
   "metadata": {},
   "outputs": [],
   "source": [
    "compound_scores = []\n",
    "for i in range(0,len(scores)):\n",
    "    compound_scores.append(scores[i]['compound'])"
   ]
  },
  {
   "cell_type": "code",
   "execution_count": 70,
   "metadata": {},
   "outputs": [],
   "source": [
    "greece_gang['sentiment'] = compound_scores"
   ]
  },
  {
   "cell_type": "code",
   "execution_count": 85,
   "metadata": {},
   "outputs": [],
   "source": [
    "greece_gang.to_csv('/Users/mbp/Documents/Side-Projects/iMessage_Analysis/greecegang_senti.csv')"
   ]
  }
 ],
 "metadata": {
  "kernelspec": {
   "display_name": "Python 3",
   "language": "python",
   "name": "python3"
  },
  "language_info": {
   "codemirror_mode": {
    "name": "ipython",
    "version": 3
   },
   "file_extension": ".py",
   "mimetype": "text/x-python",
   "name": "python",
   "nbconvert_exporter": "python",
   "pygments_lexer": "ipython3",
   "version": "3.7.6"
  }
 },
 "nbformat": 4,
 "nbformat_minor": 4
}
